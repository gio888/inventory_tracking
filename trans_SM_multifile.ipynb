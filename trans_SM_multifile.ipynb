{
 "cells": [
  {
   "cell_type": "code",
   "execution_count": null,
   "metadata": {},
   "outputs": [],
   "source": [
    "#import libraries\n",
    "import os\n",
    "import pandas as pd\n",
    "import re\n",
    "import csv\n",
    "from io import StringIO\n",
    "from pathlib import Path\n",
    "import numpy as np\n",
    "import glob"
   ]
  },
  {
   "cell_type": "code",
   "execution_count": null,
   "metadata": {},
   "outputs": [],
   "source": [
    "#another way to read multiple csvs and add date column\n",
    "path = r'/Users/gio/Google Drive/Money/House Expenses/SM Orders/SM Orders' # use your path\n",
    "all_files = glob.glob(path + \"*.csv\")\n",
    "\n",
    "file_date = re.compile('\\d{4}-\\d{2}-\\d{2}')\n",
    "\n",
    "dfs = []\n",
    "for file in all_files:\n",
    "    df = pd.read_csv(file)\n",
    "    df['Date'] = file_date.findall(file)[0]    \n",
    "    dfs.append(df)\n",
    "    \n",
    "df_all = pd.concat(dfs, ignore_index=True)\n"
   ]
  },
  {
   "cell_type": "code",
   "execution_count": null,
   "metadata": {},
   "outputs": [],
   "source": [
    "df = df_all"
   ]
  },
  {
   "cell_type": "code",
   "execution_count": null,
   "metadata": {},
   "outputs": [],
   "source": [
    "df.columns = df.columns.str.lower()"
   ]
  },
  {
   "cell_type": "code",
   "execution_count": null,
   "metadata": {},
   "outputs": [],
   "source": [
    "#remove unnecessary rows\n",
    "df = df.loc[-df.item.str.contains('Item Total'),:]"
   ]
  },
  {
   "cell_type": "code",
   "execution_count": null,
   "metadata": {},
   "outputs": [],
   "source": [
    "#remove nan\n",
    "df = df.dropna()"
   ]
  },
  {
   "cell_type": "code",
   "execution_count": null,
   "metadata": {},
   "outputs": [],
   "source": [
    "#get rid of Pesos\n",
    "df.total = df.total.str.replace('₱','').astype('float64')"
   ]
  },
  {
   "cell_type": "code",
   "execution_count": null,
   "metadata": {},
   "outputs": [],
   "source": [
    "#rename qty to qty_raw\n",
    "df.rename(columns = {'qty':'qty_raw', 'item':'item_raw'}, inplace = True)"
   ]
  },
  {
   "cell_type": "code",
   "execution_count": null,
   "metadata": {},
   "outputs": [],
   "source": [
    "#extract number to get qty\n",
    "df['qty'] = df.qty_raw.str.extract(r'(\\d+ )')"
   ]
  },
  {
   "cell_type": "code",
   "execution_count": null,
   "metadata": {},
   "outputs": [],
   "source": [
    "#extract units from content\n",
    "df['units'] = df.qty_raw.str.replace('(s$)','').str.replace(r'\\d+ ','')\n",
    "#df['units'] = df.Units.str.replace(r'(\\d+)','').fillna('pcs')\n",
    "#df['units'] = df.Units.replace(r'^\\s*$',np.NaN, regex = True).fillna('pcs')"
   ]
  },
  {
   "cell_type": "code",
   "execution_count": null,
   "metadata": {},
   "outputs": [],
   "source": [
    "#extract content\n",
    "df['content'] = df.item_raw.str.extract('(\\d+.+\\n)', expand = False).str.replace('\\n','')"
   ]
  },
  {
   "cell_type": "code",
   "execution_count": null,
   "metadata": {},
   "outputs": [],
   "source": [
    "#extract item name\n",
    "df['item'] = df.item_raw.str.replace(r' \\S+\\n.+', '')"
   ]
  },
  {
   "cell_type": "code",
   "execution_count": null,
   "metadata": {},
   "outputs": [],
   "source": [
    "#extract unit price\n",
    "df['unit_price'] = df.item_raw.str.extract(r'(₱\\d+\\.\\d{2})', expand = False).str.replace('₱','')"
   ]
  },
  {
   "cell_type": "code",
   "execution_count": null,
   "metadata": {},
   "outputs": [],
   "source": [
    "#change types\n",
    "for col in ['total', 'qty', 'unit_price']:\n",
    "    df[col] = df[col].astype('float64')\n",
    "\n",
    "df.date = df.date.astype('datetime64')\n",
    "df.units = df.units.astype('category')"
   ]
  },
  {
   "cell_type": "code",
   "execution_count": null,
   "metadata": {},
   "outputs": [],
   "source": [
    "#lower case\n",
    "df.item = df.item.str.lower()"
   ]
  },
  {
   "cell_type": "code",
   "execution_count": null,
   "metadata": {},
   "outputs": [],
   "source": [
    "#export to csv\n",
    "df.to_csv('/Users/gio/Google Drive/Money/House Expenses/SM Orders/SM Orders Logs.csv', index = None, header=True)"
   ]
  }
 ],
 "metadata": {
  "kernelspec": {
   "display_name": "Python 3",
   "language": "python",
   "name": "python3"
  },
  "language_info": {
   "codemirror_mode": {
    "name": "ipython",
    "version": 3
   },
   "file_extension": ".py",
   "mimetype": "text/x-python",
   "name": "python",
   "nbconvert_exporter": "python",
   "pygments_lexer": "ipython3",
   "version": "3.7.6"
  }
 },
 "nbformat": 4,
 "nbformat_minor": 4
}
