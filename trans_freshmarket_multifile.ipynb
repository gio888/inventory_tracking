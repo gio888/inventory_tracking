{
 "cells": [
  {
   "cell_type": "code",
   "execution_count": null,
   "metadata": {},
   "outputs": [],
   "source": [
    "#import libraries\n",
    "import os\n",
    "import pandas as pd\n",
    "import re\n",
    "import csv\n",
    "from io import StringIO\n",
    "from pathlib import Path\n",
    "import numpy as np\n",
    "import glob"
   ]
  },
  {
   "cell_type": "code",
   "execution_count": null,
   "metadata": {},
   "outputs": [],
   "source": [
    "#another way to read multiple csvs and add date column\n",
    "path = r'/Users/gio/Google Drive/Money/House Expenses/Orders Freshmarket' # use your path\n",
    "all_files = glob.glob(path + \"*.csv\")\n",
    "\n",
    "file_date = re.compile('\\d{4}-\\d{2}-\\d{2}')\n",
    "\n",
    "dfs = []\n",
    "for file in all_files:\n",
    "    df = pd.read_csv(file)\n",
    "    df['Date'] = file_date.findall(file)[0]    \n",
    "    dfs.append(df)\n",
    "    \n",
    "df = pd.concat(dfs, ignore_index=True)\n"
   ]
  },
  {
   "cell_type": "code",
   "execution_count": null,
   "metadata": {},
   "outputs": [],
   "source": [
    "#get rid of unnecessary rows\n",
    "bad_items = ['Scroll for more items', 'Description', 'Subtotal','Shipping']\n",
    "df = df.loc[-df['Product image'].isin(bad_items),:]"
   ]
  },
  {
   "cell_type": "code",
   "execution_count": null,
   "metadata": {},
   "outputs": [],
   "source": [
    "#get rid of Product Image column\n",
    "df = df.drop(columns = 'Product image')"
   ]
  },
  {
   "cell_type": "code",
   "execution_count": null,
   "metadata": {},
   "outputs": [],
   "source": [
    "#get rid of Pesos\n",
    "df.Price = df.Price.str.replace('₱','')"
   ]
  },
  {
   "cell_type": "code",
   "execution_count": null,
   "metadata": {},
   "outputs": [],
   "source": [
    "#extract content from description\n",
    "df['Content'] = df.Description.str.extract(r'(\\d+k?g?)', expand = False).str.extract(r'(\\d+)').fillna(1)"
   ]
  },
  {
   "cell_type": "code",
   "execution_count": null,
   "metadata": {},
   "outputs": [],
   "source": [
    "#extract units from content\n",
    "df['Units'] = df.Description.str.extract(r'(\\d+k?g?)', expand = False)\n",
    "df['Units'] = df.Units.str.replace(r'(\\d+)','').fillna('pcs')\n",
    "df['Units'] = df.Units.replace(r'^\\s*$',np.NaN, regex = True).fillna('pcs')"
   ]
  },
  {
   "cell_type": "code",
   "execution_count": null,
   "metadata": {},
   "outputs": [],
   "source": [
    "#create item column containing basic item identifier\n",
    "#remove Fresh\n",
    "df['Item'] = df.Description.str.replace('Fresh ','')"
   ]
  },
  {
   "cell_type": "code",
   "execution_count": null,
   "metadata": {},
   "outputs": [],
   "source": [
    "#get rid of extra spaces\n",
    "df.Item = df.Item.str.replace(r'\\\".+\\\"','')"
   ]
  },
  {
   "cell_type": "code",
   "execution_count": null,
   "metadata": {},
   "outputs": [],
   "source": [
    "#get rid of extra spaces\n",
    "pattern = r'(\\(.+\\))'\n",
    "df.Item = df.Item.str.replace(pattern,'')"
   ]
  },
  {
   "cell_type": "code",
   "execution_count": null,
   "metadata": {},
   "outputs": [],
   "source": [
    "#get rid of units stuck with texts\n",
    "pattern = r'(\\d+k?g?)'\n",
    "df.Item = df.Item.str.replace(pattern,'')"
   ]
  },
  {
   "cell_type": "code",
   "execution_count": null,
   "metadata": {},
   "outputs": [],
   "source": [
    "#get rid of Fruits\n",
    "pattern = 'Fruits '\n",
    "df.Item = df.Item.str.replace(pattern,'')"
   ]
  },
  {
   "cell_type": "code",
   "execution_count": null,
   "metadata": {},
   "outputs": [],
   "source": [
    "#change types\n",
    "for col in ['Price', 'Content']:\n",
    "    df[col] = df[col].astype('float64')\n",
    "\n",
    "df.Date = df.Date.astype('datetime64')\n",
    "df.Units = df.Units.astype('category')"
   ]
  },
  {
   "cell_type": "code",
   "execution_count": null,
   "metadata": {},
   "outputs": [],
   "source": [
    "df.Item = df.Item.str.lower()"
   ]
  },
  {
   "cell_type": "code",
   "execution_count": null,
   "metadata": {},
   "outputs": [],
   "source": [
    "#export to csv\n",
    "#filename_csv_full = 'for import ' + filename.name\n",
    "#export_csv = df.to_csv (filename_csv_full, index = None, header=True)\n",
    "df.to_csv('/Users/gio/Google Drive/Money/House Expenses/Freshmarket Logs.csv', index = None, header=True)"
   ]
  },
  {
   "cell_type": "code",
   "execution_count": null,
   "metadata": {},
   "outputs": [],
   "source": [
    "#food_categories = ['Pork','Fruits','Fish','Beef','Chicken']\n",
    "#df.item.str.contains"
   ]
  }
 ],
 "metadata": {
  "kernelspec": {
   "display_name": "Python 3",
   "language": "python",
   "name": "python3"
  },
  "language_info": {
   "codemirror_mode": {
    "name": "ipython",
    "version": 3
   },
   "file_extension": ".py",
   "mimetype": "text/x-python",
   "name": "python",
   "nbconvert_exporter": "python",
   "pygments_lexer": "ipython3",
   "version": "3.7.6"
  }
 },
 "nbformat": 4,
 "nbformat_minor": 4
}
